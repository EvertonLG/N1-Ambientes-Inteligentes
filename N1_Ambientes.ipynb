{
  "metadata": {
    "kernelspec": {
      "name": "python",
      "display_name": "Python (Pyodide)",
      "language": "python"
    },
    "language_info": {
      "codemirror_mode": {
        "name": "python",
        "version": 3
      },
      "file_extension": ".py",
      "mimetype": "text/x-python",
      "name": "python",
      "nbconvert_exporter": "python",
      "pygments_lexer": "ipython3",
      "version": "3.8"
    },
    "colab": {
      "provenance": []
    }
  },
  "nbformat_minor": 4,
  "nbformat": 4,
  "cells": [
    {
      "cell_type": "code",
      "source": "\"\"\"\nAutor: Everton Lima Gomes - 082220043 \n\n\n1):\n\n(a) - O conjunto de dados MovieLens (Small) contém 100.000 avaliações e 3.600 marcações aplicadas a 9.000 filmes por 600 usuários.\nOs dados foram coletados entre 29 de março de 1996 e 24 de setembro de 2018. Ele é amplamente utilizado para pesquisas \nem sistemas de recomendação e análise de preferências cinematográficas.\nApenas usuários que avaliaram pelo menos 20 filmes foram incluídos, sem informações demográficas.\nOs dados estão distribuídos nos arquivos:\n* links.csv\n* movies.csv\n* ratings.csv\n* tags.csv\n\n(b) - O que cada linha de cada arquivo representa:\nlinks.csv   - relaciona o filme com as empresas de rankings;\nmovies.csv  - Lista de filmes disponíveis no conjunto de dados;\nratings.csv - Contém as avaliações de filmes feitas pelos usuários;\ntags.csv    - Marcações (tags) atribuídas pelos usuários a determinados filmes.\n\n\n(c)\nlinks.csv\n- movieId - int\n- imdbId  - int\n- tmdbId  - int\n\nmovies.csv\n- movieId - int\n- title   - string\n- genres  - string\n\nratings.csv\n- userId     - int\n- movieId    - int\n- rating     - float\n- timestamp  - int\n\ntags.csv\n- userId     - int\n- movieId    - int\n- tag        - string\n- timestamp  - int\n\n2):\n\nProblemas identificados:\n\nO campo timestamp está em formato Unix epoch, dificultando a leitura.\n\nA coluna genres contém múltiplos gêneros separados por |.\n\nPossíveis valores nulos e duplicatas nos arquivos.\n\n\"\"\"",
      "metadata": {
        "colab": {
          "base_uri": "https://localhost:8080/",
          "height": 174
        },
        "id": "LJXRHsGpAC6z",
        "outputId": "c8e0bdd8-68be-43be-fa61-4fece52930f5",
        "scrolled": true,
        "trusted": true
      },
      "outputs": [
        {
          "execution_count": 1,
          "output_type": "execute_result",
          "data": {
            "text/plain": "'\\nAutor: Everton Lima Gomes\\nRA: 082220043\\nData: 10/03/2025\\n\\nQuestão 1:\\n\\n(a) - O conjunto de dados MovieLens (Small) contém 100.000 avaliações e 3.600 marcações aplicadas a 9.000 filmes por 600 usuários.\\nOs dados foram coletados entre 29 de março de 1996 e 24 de setembro de 2018. Ele é amplamente utilizado para pesquisas \\nem sistemas de recomendação e análise de preferências cinematográficas.\\nApenas usuários que avaliaram pelo menos 20 filmes foram incluídos, sem informações demográficas.\\nOs dados estão distribuídos nos arquivos:\\n* links.csv\\n* movies.csv\\n* ratings.csv\\n* tags.csv\\n\\n(b) - O que cada linha de cada arquivo representa:\\nlinks.csv   - relaciona o filme com as empresas de rankings;\\nmovies.csv  - Lista de filmes disponíveis no conjunto de dados;\\nratings.csv - Contém as avaliações de filmes feitas pelos usuários;\\ntags.csv    - Marcações (tags) atribuídas pelos usuários a determinados filmes.\\n\\n\\n(c)\\nlinks.csv\\n- movieId - int\\n- imdbId  - int\\n- tmdbId  - int\\n\\nmovies.csv\\n- movieId - int\\n- title   - string\\n- genres  - string\\n\\nratings.csv\\n- userId     - int\\n- movieId    - int\\n- rating     - float\\n- timestamp  - int\\n\\ntags.csv\\n- userId     - int\\n- movieId    - int\\n- tag        - string\\n- timestamp  - int\\n\\nQuestão 2:\\n\\nProblemas identificados:\\n\\nO campo timestamp está em formato Unix epoch, dificultando a leitura.\\n\\nA coluna genres contém múltiplos gêneros separados por |.\\n\\nPossíveis valores nulos e duplicatas nos arquivos.\\n\\n'"
          },
          "metadata": {}
        }
      ],
      "execution_count": 1
    },
    {
      "cell_type": "code",
      "source": "import pandas as pd\n\nfiles = {\n    \"links\": \"/content/links.csv\",\n    \"movies\": \"/content/movies.csv\",\n    \"ratings\": \"/content/ratings.csv\",\n    \"tags\": \"/content/tags.csv\",\n}\n\ndfs = {name: pd.read_csv(path) for name, path in files.items()}\n\nprint('Verificar informações básicas e estatísticas de cada dataset')\ninfo_dict = {name: df.info() for name, df in dfs.items()}\nsummary_dict = {name: df.describe(include=\"all\") for name, df in dfs.items()}\n",
      "metadata": {
        "colab": {
          "base_uri": "https://localhost:8080/"
        },
        "id": "VD4hQEqdmIYt",
        "outputId": "a7987495-c54c-4c14-ea77-9367ec20643e"
      },
      "outputs": [
        {
          "output_type": "stream",
          "name": "stdout",
          "text": "Verificar informações básicas e estatísticas de cada dataset\n,<class 'pandas.core.frame.DataFrame'>\n,RangeIndex: 9742 entries, 0 to 9741\n,Data columns (total 3 columns):\n, #   Column   Non-Null Count  Dtype  \n,---  ------   --------------  -----  \n, 0   movieId  9742 non-null   int64  \n, 1   imdbId   9742 non-null   int64  \n, 2   tmdbId   9734 non-null   float64\n,dtypes: float64(1), int64(2)\n,memory usage: 228.5 KB\n,<class 'pandas.core.frame.DataFrame'>\n,RangeIndex: 9742 entries, 0 to 9741\n,Data columns (total 3 columns):\n, #   Column   Non-Null Count  Dtype \n,---  ------   --------------  ----- \n, 0   movieId  9742 non-null   int64 \n, 1   title    9742 non-null   object\n, 2   genres   9742 non-null   object\n,dtypes: int64(1), object(2)\n,memory usage: 228.5+ KB\n,<class 'pandas.core.frame.DataFrame'>\n,RangeIndex: 100836 entries, 0 to 100835\n,Data columns (total 4 columns):\n, #   Column     Non-Null Count   Dtype  \n,---  ------     --------------   -----  \n, 0   userId     100836 non-null  int64  \n, 1   movieId    100836 non-null  int64  \n, 2   rating     100836 non-null  float64\n, 3   timestamp  100836 non-null  int64  \n,dtypes: float64(1), int64(3)\n,memory usage: 3.1 MB\n,<class 'pandas.core.frame.DataFrame'>\n,RangeIndex: 3683 entries, 0 to 3682\n,Data columns (total 4 columns):\n, #   Column     Non-Null Count  Dtype \n,---  ------     --------------  ----- \n, 0   userId     3683 non-null   int64 \n, 1   movieId    3683 non-null   int64 \n, 2   tag        3683 non-null   object\n, 3   timestamp  3683 non-null   int64 \n,dtypes: int64(3), object(1)\n,memory usage: 115.2+ KB\n"
        }
      ],
      "execution_count": 11
    },
    {
      "cell_type": "code",
      "source": "print('Verificar dados ausentes')\nmissing_values = {name: df.isnull().sum() for name, df in dfs.items()}\nprint(missing_values)",
      "metadata": {
        "colab": {
          "base_uri": "https://localhost:8080/"
        },
        "id": "UXHPpzQym3wV",
        "outputId": "0374b46e-cfdf-4243-94b8-4a6a62432863"
      },
      "outputs": [
        {
          "output_type": "stream",
          "name": "stdout",
          "text": "Verificar dados ausentes\n,{'links': movieId    0\n,imdbId     0\n,tmdbId     8\n,dtype: int64, 'movies': movieId    0\n,title      0\n,genres     0\n,dtype: int64, 'ratings': userId       0\n,movieId      0\n,rating       0\n,timestamp    0\n,dtype: int64, 'tags': userId       0\n,movieId      0\n,tag          0\n,timestamp    0\n,dtype: int64}\n"
        }
      ],
      "execution_count": 13
    },
    {
      "cell_type": "code",
      "source": "print('Exibir amostras dos dados')\nsamples = {name: df.head() for name, df in dfs.items()}\nprint(samples, missing_values)",
      "metadata": {
        "colab": {
          "base_uri": "https://localhost:8080/"
        },
        "id": "PwiGRhxZnHxl",
        "outputId": "f5bc819b-2844-4c05-b2a0-9240a5aec405"
      },
      "outputs": [
        {
          "output_type": "stream",
          "name": "stdout",
          "text": "Exibir amostras dos dados\n,{'links':    movieId  imdbId   tmdbId\n,0        1  114709    862.0\n,1        2  113497   8844.0\n,2        3  113228  15602.0\n,3        4  114885  31357.0\n,4        5  113041  11862.0, 'movies':    movieId                               title  \\\n,0        1                    Toy Story (1995)   \n,1        2                      Jumanji (1995)   \n,2        3             Grumpier Old Men (1995)   \n,3        4            Waiting to Exhale (1995)   \n,4        5  Father of the Bride Part II (1995)   \n,\n,                                        genres  \n,0  Adventure|Animation|Children|Comedy|Fantasy  \n,1                   Adventure|Children|Fantasy  \n,2                               Comedy|Romance  \n,3                         Comedy|Drama|Romance  \n,4                                       Comedy  , 'ratings':    userId  movieId  rating  timestamp\n,0       1        1     4.0  964982703\n,1       1        3     4.0  964981247\n,2       1        6     4.0  964982224\n,3       1       47     5.0  964983815\n,4       1       50     5.0  964982931, 'tags':    userId  movieId              tag   timestamp\n,0       2    60756            funny  1445714994\n,1       2    60756  Highly quotable  1445714996\n,2       2    60756     will ferrell  1445714992\n,3       2    89774     Boxing story  1445715207\n,4       2    89774              MMA  1445715200} {'links': movieId    0\n,imdbId     0\n,tmdbId     8\n,dtype: int64, 'movies': movieId    0\n,title      0\n,genres     0\n,dtype: int64, 'ratings': userId       0\n,movieId      0\n,rating       0\n,timestamp    0\n,dtype: int64, 'tags': userId       0\n,movieId      0\n,tag          0\n,timestamp    0\n,dtype: int64}\n"
        }
      ],
      "execution_count": 14
    },
    {
      "cell_type": "code",
      "source": "# Corrigir valores ausentes em 'tmdbId'\ndfs[\"links\"][\"tmdbId\"] = dfs[\"links\"][\"tmdbId\"].fillna(-1).astype(\"int64\")\n\n# Converter 'timestamp' para datetime nos datasets 'ratings' e 'tags'\ndfs[\"ratings\"][\"timestamp\"] = pd.to_datetime(dfs[\"ratings\"][\"timestamp\"], unit='s')\ndfs[\"tags\"][\"timestamp\"] = pd.to_datetime(dfs[\"tags\"][\"timestamp\"], unit='s')",
      "metadata": {
        "id": "v8aInEicnOzI"
      },
      "outputs": [],
      "execution_count": 18
    },
    {
      "cell_type": "code",
      "source": "# Verificar se as correções foram aplicadas corretamente\ndfs[\"links\"].info(), dfs[\"ratings\"].head(), dfs[\"tags\"].head()",
      "metadata": {
        "colab": {
          "base_uri": "https://localhost:8080/"
        },
        "id": "wjCvqeAhnaxc",
        "outputId": "854b4ba8-1a84-4b8c-a2c3-4faa6bbb34c0",
        "trusted": true
      },
      "outputs": [
        {
          "ename": "<class 'NameError'>",
          "evalue": "name 'dfs' is not defined",
          "traceback": [
            "\u001b[0;31m---------------------------------------------------------------------------\u001b[0m",
            "\u001b[0;31mNameError\u001b[0m                                 Traceback (most recent call last)",
            "Cell \u001b[0;32mIn[5], line 2\u001b[0m\n\u001b[1;32m      1\u001b[0m \u001b[38;5;66;03m# Verificar se as correções foram aplicadas corretamente\u001b[39;00m\n\u001b[0;32m----> 2\u001b[0m \u001b[43mdfs\u001b[49m[\u001b[38;5;124m\"\u001b[39m\u001b[38;5;124mlinks\u001b[39m\u001b[38;5;124m\"\u001b[39m]\u001b[38;5;241m.\u001b[39minfo(), dfs[\u001b[38;5;124m\"\u001b[39m\u001b[38;5;124mratings\u001b[39m\u001b[38;5;124m\"\u001b[39m]\u001b[38;5;241m.\u001b[39mhead(), dfs[\u001b[38;5;124m\"\u001b[39m\u001b[38;5;124mtags\u001b[39m\u001b[38;5;124m\"\u001b[39m]\u001b[38;5;241m.\u001b[39mhead()\n",
            "\u001b[0;31mNameError\u001b[0m: name 'dfs' is not defined"
          ],
          "output_type": "error"
        }
      ],
      "execution_count": 5
    },
    {
      "cell_type": "code",
      "source": "",
      "metadata": {
        "trusted": true
      },
      "outputs": [],
      "execution_count": null
    }
  ]
}